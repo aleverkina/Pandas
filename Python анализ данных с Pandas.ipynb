{
 "cells": [
  {
   "cell_type": "code",
   "execution_count": 1,
   "id": "2d9139ae",
   "metadata": {},
   "outputs": [],
   "source": [
    "import pandas as pd\n",
    "\n",
    "df_o = pd.read_csv('Orders.csv', sep =';')\n",
    "df_od = pd.read_csv('Order_details.csv', sep =';')\n",
    "df_e = pd.read_excel('Employees.xlsx', sheet_name = 'Лист1')\n",
    "df_p = pd.read_csv('Products.csv', sep =';')\n",
    "df_o = pd.read_csv('Orders.csv', sep =';')\n",
    "df_c = pd.read_csv('Customers.csv', sep =';')\n",
    "\n",
    "df_od['Discount_fact'] = df_od['UnitPrice'] * df_od['Quantity'] * df_od['Discount']\n",
    "df_od['Revenue'] = df_od['UnitPrice'] * df_od['Quantity'] - df_od['Discount_fact']\n"
   ]
  },
  {
   "cell_type": "markdown",
   "id": "dca194cc",
   "metadata": {},
   "source": [
    "1. Посчитайте количество клиентов, чья должность - Owner. df_c"
   ]
  },
  {
   "cell_type": "code",
   "execution_count": 18,
   "id": "decb6a6c",
   "metadata": {},
   "outputs": [
    {
     "data": {
      "text/plain": [
       "17"
      ]
     },
     "execution_count": 18,
     "metadata": {},
     "output_type": "execute_result"
    }
   ],
   "source": [
    "len(df_c[df_c['ContactTitle'] == 'Owner'])"
   ]
  },
  {
   "cell_type": "markdown",
   "id": "eec91fde",
   "metadata": {},
   "source": [
    "2. Посчитайте количество заказов, оформленных позднее даты 1997-07-05. df_o"
   ]
  },
  {
   "cell_type": "code",
   "execution_count": 26,
   "id": "3ba17214",
   "metadata": {},
   "outputs": [],
   "source": [
    "df_o['OrderDate'] = df_o['OrderDate'].astype('datetime64[ns]')\n",
    "df_o[df_o['OrderDate'] > '1997-07-05']"
   ]
  },
  {
   "cell_type": "markdown",
   "id": "9910ac76",
   "metadata": {},
   "source": [
    "3. Посчитайте количество товаров, которые находятся в диапазоне цен от 18 до 22. Товары стоимостью 18 или 22 тоже должны быть учтены. df_p"
   ]
  },
  {
   "cell_type": "code",
   "execution_count": 55,
   "id": "4aaa6b83",
   "metadata": {},
   "outputs": [
    {
     "data": {
      "text/plain": [
       "16"
      ]
     },
     "execution_count": 55,
     "metadata": {},
     "output_type": "execute_result"
    }
   ],
   "source": [
    "len(df_p[df_p['UnitPrice'].between(18.0, 22.0)])"
   ]
  },
  {
   "cell_type": "markdown",
   "id": "64053de0",
   "metadata": {},
   "source": [
    "4. Выведите в одной таблице заказы, которые:\n",
    "\n",
    "- были оформлены в 1997 году;\n",
    "\n",
    "- заказы с весом более 500.\n",
    "\n",
    "Сколько их?"
   ]
  },
  {
   "cell_type": "code",
   "execution_count": 59,
   "id": "f43db978",
   "metadata": {},
   "outputs": [
    {
     "data": {
      "text/plain": [
       "416"
      ]
     },
     "execution_count": 59,
     "metadata": {},
     "output_type": "execute_result"
    }
   ],
   "source": [
    "len(df_o[(df_o['Freight'] > 500) | (df_o['OrderDate'].dt.year == 1997)])"
   ]
  },
  {
   "cell_type": "markdown",
   "id": "4160c1b7",
   "metadata": {},
   "source": [
    "5. Посчитайте количество клиентов, чьи имена начинаются на латинскую букву A. Сколько таких клиентов? df_c"
   ]
  },
  {
   "cell_type": "code",
   "execution_count": 61,
   "id": "53d80a0d",
   "metadata": {},
   "outputs": [
    {
     "data": {
      "text/plain": [
       "10"
      ]
     },
     "execution_count": 61,
     "metadata": {},
     "output_type": "execute_result"
    }
   ],
   "source": [
    "len(df_c[df_c['ContactName'].str.startswith('A')])"
   ]
  },
  {
   "cell_type": "markdown",
   "id": "0fff2359",
   "metadata": {},
   "source": [
    "6. Выведите клиентов, чьи номера телефонов содержат 5555 (четыре символа 5 подряд). Четыре пятерки подряд могут быть в начале номера, в середине или в конце. Сколько таких клиентов?"
   ]
  },
  {
   "cell_type": "code",
   "execution_count": 66,
   "id": "4791ea6d",
   "metadata": {},
   "outputs": [
    {
     "data": {
      "text/plain": [
       "2"
      ]
     },
     "execution_count": 66,
     "metadata": {},
     "output_type": "execute_result"
    }
   ],
   "source": [
    "len(df_c[df_c['Phone'].str.contains('5{4}') == True])"
   ]
  },
  {
   "cell_type": "markdown",
   "id": "cbdf0940",
   "metadata": {},
   "source": [
    "7. Выведите заказы, которые были оформлены в 1997 году. Затем отсортируйте заказы по весу в порядке убывания. "
   ]
  },
  {
   "cell_type": "code",
   "execution_count": 73,
   "id": "761ebf5c",
   "metadata": {
    "scrolled": true
   },
   "outputs": [
    {
     "data": {
      "text/html": [
       "<div>\n",
       "<style scoped>\n",
       "    .dataframe tbody tr th:only-of-type {\n",
       "        vertical-align: middle;\n",
       "    }\n",
       "\n",
       "    .dataframe tbody tr th {\n",
       "        vertical-align: top;\n",
       "    }\n",
       "\n",
       "    .dataframe thead th {\n",
       "        text-align: right;\n",
       "    }\n",
       "</style>\n",
       "<table border=\"1\" class=\"dataframe\">\n",
       "  <thead>\n",
       "    <tr style=\"text-align: right;\">\n",
       "      <th></th>\n",
       "      <th>OrderID</th>\n",
       "      <th>CustomerID</th>\n",
       "      <th>EmployeeID</th>\n",
       "      <th>OrderDate</th>\n",
       "      <th>RequiredDate</th>\n",
       "      <th>ShippedDate</th>\n",
       "      <th>Freight</th>\n",
       "    </tr>\n",
       "  </thead>\n",
       "  <tbody>\n",
       "    <tr>\n",
       "      <th>292</th>\n",
       "      <td>10540</td>\n",
       "      <td>QUICK</td>\n",
       "      <td>3</td>\n",
       "      <td>1997-05-19</td>\n",
       "      <td>1997-06-16 00:00:00.000</td>\n",
       "      <td>1997-06-13 00:00:00.000</td>\n",
       "      <td>1007.64</td>\n",
       "    </tr>\n",
       "    <tr>\n",
       "      <th>443</th>\n",
       "      <td>10691</td>\n",
       "      <td>QUICK</td>\n",
       "      <td>2</td>\n",
       "      <td>1997-10-03</td>\n",
       "      <td>1997-11-14 00:00:00.000</td>\n",
       "      <td>1997-10-22 00:00:00.000</td>\n",
       "      <td>810.05</td>\n",
       "    </tr>\n",
       "    <tr>\n",
       "      <th>266</th>\n",
       "      <td>10514</td>\n",
       "      <td>ERNSH</td>\n",
       "      <td>3</td>\n",
       "      <td>1997-04-22</td>\n",
       "      <td>1997-05-20 00:00:00.000</td>\n",
       "      <td>1997-05-16 00:00:00.000</td>\n",
       "      <td>789.95</td>\n",
       "    </tr>\n",
       "    <tr>\n",
       "      <th>231</th>\n",
       "      <td>10479</td>\n",
       "      <td>RATTC</td>\n",
       "      <td>3</td>\n",
       "      <td>1997-03-19</td>\n",
       "      <td>1997-04-16 00:00:00.000</td>\n",
       "      <td>1997-03-21 00:00:00.000</td>\n",
       "      <td>708.95</td>\n",
       "    </tr>\n",
       "    <tr>\n",
       "      <th>364</th>\n",
       "      <td>10612</td>\n",
       "      <td>SAVEA</td>\n",
       "      <td>1</td>\n",
       "      <td>1997-07-28</td>\n",
       "      <td>1997-08-25 00:00:00.000</td>\n",
       "      <td>1997-08-01 00:00:00.000</td>\n",
       "      <td>544.08</td>\n",
       "    </tr>\n",
       "    <tr>\n",
       "      <th>...</th>\n",
       "      <td>...</td>\n",
       "      <td>...</td>\n",
       "      <td>...</td>\n",
       "      <td>...</td>\n",
       "      <td>...</td>\n",
       "      <td>...</td>\n",
       "      <td>...</td>\n",
       "    </tr>\n",
       "    <tr>\n",
       "      <th>451</th>\n",
       "      <td>10699</td>\n",
       "      <td>MORGK</td>\n",
       "      <td>3</td>\n",
       "      <td>1997-10-09</td>\n",
       "      <td>1997-11-06 00:00:00.000</td>\n",
       "      <td>1997-10-13 00:00:00.000</td>\n",
       "      <td>0.58</td>\n",
       "    </tr>\n",
       "    <tr>\n",
       "      <th>338</th>\n",
       "      <td>10586</td>\n",
       "      <td>REGGC</td>\n",
       "      <td>9</td>\n",
       "      <td>1997-07-02</td>\n",
       "      <td>1997-07-30 00:00:00.000</td>\n",
       "      <td>1997-07-09 00:00:00.000</td>\n",
       "      <td>0.48</td>\n",
       "    </tr>\n",
       "    <tr>\n",
       "      <th>167</th>\n",
       "      <td>10415</td>\n",
       "      <td>HUNGC</td>\n",
       "      <td>3</td>\n",
       "      <td>1997-01-15</td>\n",
       "      <td>1997-02-12 00:00:00.000</td>\n",
       "      <td>1997-01-24 00:00:00.000</td>\n",
       "      <td>0.20</td>\n",
       "    </tr>\n",
       "    <tr>\n",
       "      <th>261</th>\n",
       "      <td>10509</td>\n",
       "      <td>BLAUS</td>\n",
       "      <td>4</td>\n",
       "      <td>1997-04-17</td>\n",
       "      <td>1997-05-15 00:00:00.000</td>\n",
       "      <td>1997-04-29 00:00:00.000</td>\n",
       "      <td>0.15</td>\n",
       "    </tr>\n",
       "    <tr>\n",
       "      <th>396</th>\n",
       "      <td>10644</td>\n",
       "      <td>WELLI</td>\n",
       "      <td>3</td>\n",
       "      <td>1997-08-25</td>\n",
       "      <td>1997-09-22 00:00:00.000</td>\n",
       "      <td>1997-09-01 00:00:00.000</td>\n",
       "      <td>0.14</td>\n",
       "    </tr>\n",
       "  </tbody>\n",
       "</table>\n",
       "<p>408 rows × 7 columns</p>\n",
       "</div>"
      ],
      "text/plain": [
       "     OrderID CustomerID  EmployeeID  OrderDate             RequiredDate  \\\n",
       "292    10540      QUICK           3 1997-05-19  1997-06-16 00:00:00.000   \n",
       "443    10691      QUICK           2 1997-10-03  1997-11-14 00:00:00.000   \n",
       "266    10514      ERNSH           3 1997-04-22  1997-05-20 00:00:00.000   \n",
       "231    10479      RATTC           3 1997-03-19  1997-04-16 00:00:00.000   \n",
       "364    10612      SAVEA           1 1997-07-28  1997-08-25 00:00:00.000   \n",
       "..       ...        ...         ...        ...                      ...   \n",
       "451    10699      MORGK           3 1997-10-09  1997-11-06 00:00:00.000   \n",
       "338    10586      REGGC           9 1997-07-02  1997-07-30 00:00:00.000   \n",
       "167    10415      HUNGC           3 1997-01-15  1997-02-12 00:00:00.000   \n",
       "261    10509      BLAUS           4 1997-04-17  1997-05-15 00:00:00.000   \n",
       "396    10644      WELLI           3 1997-08-25  1997-09-22 00:00:00.000   \n",
       "\n",
       "                 ShippedDate  Freight  \n",
       "292  1997-06-13 00:00:00.000  1007.64  \n",
       "443  1997-10-22 00:00:00.000   810.05  \n",
       "266  1997-05-16 00:00:00.000   789.95  \n",
       "231  1997-03-21 00:00:00.000   708.95  \n",
       "364  1997-08-01 00:00:00.000   544.08  \n",
       "..                       ...      ...  \n",
       "451  1997-10-13 00:00:00.000     0.58  \n",
       "338  1997-07-09 00:00:00.000     0.48  \n",
       "167  1997-01-24 00:00:00.000     0.20  \n",
       "261  1997-04-29 00:00:00.000     0.15  \n",
       "396  1997-09-01 00:00:00.000     0.14  \n",
       "\n",
       "[408 rows x 7 columns]"
      ]
     },
     "execution_count": 73,
     "metadata": {},
     "output_type": "execute_result"
    }
   ],
   "source": [
    "df_o['OrderDate'] = df_o['OrderDate'].astype('datetime64[ns]')\n",
    "\n",
    "df_o[df_o.OrderDate.between('1997-01-01', '1997-12-31')].sort_values('Freight',ascending = False )"
   ]
  },
  {
   "cell_type": "markdown",
   "id": "810162d8",
   "metadata": {},
   "source": [
    "8. Выведите заказы, совершенные в 1997 году. Отсортируйте заказы в порядке возрастания по двум столбцам: ID клиента и вес заказа. Укажите минимальный вес заказа, который совершил клиент с ID ANTON"
   ]
  },
  {
   "cell_type": "code",
   "execution_count": 79,
   "id": "f5a85ac5",
   "metadata": {},
   "outputs": [
    {
     "data": {
      "text/html": [
       "<div>\n",
       "<style scoped>\n",
       "    .dataframe tbody tr th:only-of-type {\n",
       "        vertical-align: middle;\n",
       "    }\n",
       "\n",
       "    .dataframe tbody tr th {\n",
       "        vertical-align: top;\n",
       "    }\n",
       "\n",
       "    .dataframe thead th {\n",
       "        text-align: right;\n",
       "    }\n",
       "</style>\n",
       "<table border=\"1\" class=\"dataframe\">\n",
       "  <thead>\n",
       "    <tr style=\"text-align: right;\">\n",
       "      <th></th>\n",
       "      <th>OrderID</th>\n",
       "      <th>CustomerID</th>\n",
       "      <th>EmployeeID</th>\n",
       "      <th>OrderDate</th>\n",
       "      <th>RequiredDate</th>\n",
       "      <th>ShippedDate</th>\n",
       "      <th>Freight</th>\n",
       "    </tr>\n",
       "  </thead>\n",
       "  <tbody>\n",
       "    <tr>\n",
       "      <th>429</th>\n",
       "      <td>10677</td>\n",
       "      <td>ANTON</td>\n",
       "      <td>1</td>\n",
       "      <td>1997-09-22</td>\n",
       "      <td>1997-10-20 00:00:00.000</td>\n",
       "      <td>1997-09-26 00:00:00.000</td>\n",
       "      <td>4.03</td>\n",
       "    </tr>\n",
       "    <tr>\n",
       "      <th>287</th>\n",
       "      <td>10535</td>\n",
       "      <td>ANTON</td>\n",
       "      <td>4</td>\n",
       "      <td>1997-05-13</td>\n",
       "      <td>1997-06-10 00:00:00.000</td>\n",
       "      <td>1997-05-21 00:00:00.000</td>\n",
       "      <td>15.64</td>\n",
       "    </tr>\n",
       "    <tr>\n",
       "      <th>434</th>\n",
       "      <td>10682</td>\n",
       "      <td>ANTON</td>\n",
       "      <td>3</td>\n",
       "      <td>1997-09-25</td>\n",
       "      <td>1997-10-23 00:00:00.000</td>\n",
       "      <td>1997-10-01 00:00:00.000</td>\n",
       "      <td>36.13</td>\n",
       "    </tr>\n",
       "    <tr>\n",
       "      <th>259</th>\n",
       "      <td>10507</td>\n",
       "      <td>ANTON</td>\n",
       "      <td>7</td>\n",
       "      <td>1997-04-15</td>\n",
       "      <td>1997-05-13 00:00:00.000</td>\n",
       "      <td>1997-04-22 00:00:00.000</td>\n",
       "      <td>47.45</td>\n",
       "    </tr>\n",
       "    <tr>\n",
       "      <th>325</th>\n",
       "      <td>10573</td>\n",
       "      <td>ANTON</td>\n",
       "      <td>7</td>\n",
       "      <td>1997-06-19</td>\n",
       "      <td>1997-07-17 00:00:00.000</td>\n",
       "      <td>1997-06-20 00:00:00.000</td>\n",
       "      <td>84.84</td>\n",
       "    </tr>\n",
       "  </tbody>\n",
       "</table>\n",
       "</div>"
      ],
      "text/plain": [
       "     OrderID CustomerID  EmployeeID  OrderDate             RequiredDate  \\\n",
       "429    10677      ANTON           1 1997-09-22  1997-10-20 00:00:00.000   \n",
       "287    10535      ANTON           4 1997-05-13  1997-06-10 00:00:00.000   \n",
       "434    10682      ANTON           3 1997-09-25  1997-10-23 00:00:00.000   \n",
       "259    10507      ANTON           7 1997-04-15  1997-05-13 00:00:00.000   \n",
       "325    10573      ANTON           7 1997-06-19  1997-07-17 00:00:00.000   \n",
       "\n",
       "                 ShippedDate  Freight  \n",
       "429  1997-09-26 00:00:00.000     4.03  \n",
       "287  1997-05-21 00:00:00.000    15.64  \n",
       "434  1997-10-01 00:00:00.000    36.13  \n",
       "259  1997-04-22 00:00:00.000    47.45  \n",
       "325  1997-06-20 00:00:00.000    84.84  "
      ]
     },
     "execution_count": 79,
     "metadata": {},
     "output_type": "execute_result"
    }
   ],
   "source": [
    "df_o2 = df_o[(df_o.OrderDate.between('1997-01-01', '1997-12-31'))].sort_values(['CustomerID','Freight'])\n",
    "df_o2[df_o2['CustomerID'] == 'ANTON']"
   ]
  },
  {
   "cell_type": "markdown",
   "id": "12cdaa8e",
   "metadata": {},
   "source": [
    "9. Посчитайте количество клиентов, у которых должность Owner или Sales Representative."
   ]
  },
  {
   "cell_type": "code",
   "execution_count": 83,
   "id": "36b8befa",
   "metadata": {},
   "outputs": [
    {
     "data": {
      "text/plain": [
       "CustomerID      34\n",
       "ContactName     34\n",
       "ContactTitle    34\n",
       "Phone           34\n",
       "Address         34\n",
       "dtype: int64"
      ]
     },
     "execution_count": 83,
     "metadata": {},
     "output_type": "execute_result"
    }
   ],
   "source": [
    "df_c[(df_c['ContactTitle'] == 'Owner') | (df_c['ContactTitle'] == 'Sales Representative')].count()"
   ]
  },
  {
   "cell_type": "markdown",
   "id": "a1117232",
   "metadata": {},
   "source": [
    "10. Посчитайте суммарный вес заказов, которые были совершены 26 февраля 1998 года."
   ]
  },
  {
   "cell_type": "code",
   "execution_count": 103,
   "id": "632499c6",
   "metadata": {},
   "outputs": [
    {
     "data": {
      "text/plain": [
       "776.27"
      ]
     },
     "execution_count": 103,
     "metadata": {},
     "output_type": "execute_result"
    }
   ],
   "source": [
    "df_o['OrderDate']= df_o['OrderDate'].astype('datetime64[ns]')\n",
    "df_o[df_o['OrderDate'] =='1998-02-26'].Freight.sum()"
   ]
  },
  {
   "cell_type": "markdown",
   "id": "71520ab2",
   "metadata": {},
   "source": [
    "11. Посчитайте в разрезе должностей количество клиентов."
   ]
  },
  {
   "cell_type": "code",
   "execution_count": 105,
   "id": "bb48557f",
   "metadata": {
    "scrolled": false
   },
   "outputs": [
    {
     "data": {
      "text/plain": [
       "ContactTitle\n",
       "Accounting Manager                10\n",
       "Assistant Sales Agent              2\n",
       "Assistant Sales Representative     1\n",
       "Marketing Assistant                6\n",
       "Marketing Manager                 12\n",
       "Order Administrator                2\n",
       "Owner                             17\n",
       "Owner/Marketing Assistant          1\n",
       "Sales Agent                        5\n",
       "Sales Associate                    7\n",
       "Sales Manager                     11\n",
       "Sales Representative              17\n",
       "Name: CustomerID, dtype: int64"
      ]
     },
     "execution_count": 105,
     "metadata": {},
     "output_type": "execute_result"
    }
   ],
   "source": [
    "df_c.groupby('ContactTitle').CustomerID.count()"
   ]
  },
  {
   "cell_type": "markdown",
   "id": "dbe52799",
   "metadata": {},
   "source": [
    "12.  Какое максимальное количество заказов оформил один сотрудник одному клиенту?"
   ]
  },
  {
   "cell_type": "code",
   "execution_count": 14,
   "id": "137dec20",
   "metadata": {
    "scrolled": true
   },
   "outputs": [
    {
     "data": {
      "text/html": [
       "<div>\n",
       "<style scoped>\n",
       "    .dataframe tbody tr th:only-of-type {\n",
       "        vertical-align: middle;\n",
       "    }\n",
       "\n",
       "    .dataframe tbody tr th {\n",
       "        vertical-align: top;\n",
       "    }\n",
       "\n",
       "    .dataframe thead th {\n",
       "        text-align: right;\n",
       "    }\n",
       "</style>\n",
       "<table border=\"1\" class=\"dataframe\">\n",
       "  <thead>\n",
       "    <tr style=\"text-align: right;\">\n",
       "      <th></th>\n",
       "      <th>EmployeeID</th>\n",
       "      <th>CustomerID</th>\n",
       "      <th>OrderID</th>\n",
       "      <th>OrderDate</th>\n",
       "      <th>RequiredDate</th>\n",
       "      <th>ShippedDate</th>\n",
       "      <th>Freight</th>\n",
       "    </tr>\n",
       "  </thead>\n",
       "  <tbody>\n",
       "    <tr>\n",
       "      <th>128</th>\n",
       "      <td>3</td>\n",
       "      <td>BERGS</td>\n",
       "      <td>6</td>\n",
       "      <td>6</td>\n",
       "      <td>6</td>\n",
       "      <td>6</td>\n",
       "      <td>6</td>\n",
       "    </tr>\n",
       "    <tr>\n",
       "      <th>103</th>\n",
       "      <td>2</td>\n",
       "      <td>QUICK</td>\n",
       "      <td>6</td>\n",
       "      <td>6</td>\n",
       "      <td>6</td>\n",
       "      <td>6</td>\n",
       "      <td>6</td>\n",
       "    </tr>\n",
       "    <tr>\n",
       "      <th>50</th>\n",
       "      <td>1</td>\n",
       "      <td>SAVEA</td>\n",
       "      <td>6</td>\n",
       "      <td>6</td>\n",
       "      <td>6</td>\n",
       "      <td>6</td>\n",
       "      <td>6</td>\n",
       "    </tr>\n",
       "    <tr>\n",
       "      <th>391</th>\n",
       "      <td>8</td>\n",
       "      <td>FOLKO</td>\n",
       "      <td>6</td>\n",
       "      <td>6</td>\n",
       "      <td>6</td>\n",
       "      <td>6</td>\n",
       "      <td>6</td>\n",
       "    </tr>\n",
       "    <tr>\n",
       "      <th>150</th>\n",
       "      <td>3</td>\n",
       "      <td>HUNGO</td>\n",
       "      <td>5</td>\n",
       "      <td>5</td>\n",
       "      <td>5</td>\n",
       "      <td>5</td>\n",
       "      <td>5</td>\n",
       "    </tr>\n",
       "    <tr>\n",
       "      <th>...</th>\n",
       "      <td>...</td>\n",
       "      <td>...</td>\n",
       "      <td>...</td>\n",
       "      <td>...</td>\n",
       "      <td>...</td>\n",
       "      <td>...</td>\n",
       "      <td>...</td>\n",
       "    </tr>\n",
       "    <tr>\n",
       "      <th>188</th>\n",
       "      <td>4</td>\n",
       "      <td>ANATR</td>\n",
       "      <td>1</td>\n",
       "      <td>1</td>\n",
       "      <td>1</td>\n",
       "      <td>1</td>\n",
       "      <td>1</td>\n",
       "    </tr>\n",
       "    <tr>\n",
       "      <th>186</th>\n",
       "      <td>3</td>\n",
       "      <td>WILMK</td>\n",
       "      <td>1</td>\n",
       "      <td>1</td>\n",
       "      <td>1</td>\n",
       "      <td>1</td>\n",
       "      <td>1</td>\n",
       "    </tr>\n",
       "    <tr>\n",
       "      <th>183</th>\n",
       "      <td>3</td>\n",
       "      <td>WARTH</td>\n",
       "      <td>1</td>\n",
       "      <td>1</td>\n",
       "      <td>1</td>\n",
       "      <td>1</td>\n",
       "      <td>1</td>\n",
       "    </tr>\n",
       "    <tr>\n",
       "      <th>182</th>\n",
       "      <td>3</td>\n",
       "      <td>VINET</td>\n",
       "      <td>1</td>\n",
       "      <td>1</td>\n",
       "      <td>1</td>\n",
       "      <td>1</td>\n",
       "      <td>1</td>\n",
       "    </tr>\n",
       "    <tr>\n",
       "      <th>463</th>\n",
       "      <td>9</td>\n",
       "      <td>WELLI</td>\n",
       "      <td>1</td>\n",
       "      <td>1</td>\n",
       "      <td>1</td>\n",
       "      <td>1</td>\n",
       "      <td>1</td>\n",
       "    </tr>\n",
       "  </tbody>\n",
       "</table>\n",
       "<p>464 rows × 7 columns</p>\n",
       "</div>"
      ],
      "text/plain": [
       "     EmployeeID CustomerID  OrderID  OrderDate  RequiredDate  ShippedDate  \\\n",
       "128           3      BERGS        6          6             6            6   \n",
       "103           2      QUICK        6          6             6            6   \n",
       "50            1      SAVEA        6          6             6            6   \n",
       "391           8      FOLKO        6          6             6            6   \n",
       "150           3      HUNGO        5          5             5            5   \n",
       "..          ...        ...      ...        ...           ...          ...   \n",
       "188           4      ANATR        1          1             1            1   \n",
       "186           3      WILMK        1          1             1            1   \n",
       "183           3      WARTH        1          1             1            1   \n",
       "182           3      VINET        1          1             1            1   \n",
       "463           9      WELLI        1          1             1            1   \n",
       "\n",
       "     Freight  \n",
       "128        6  \n",
       "103        6  \n",
       "50         6  \n",
       "391        6  \n",
       "150        5  \n",
       "..       ...  \n",
       "188        1  \n",
       "186        1  \n",
       "183        1  \n",
       "182        1  \n",
       "463        1  \n",
       "\n",
       "[464 rows x 7 columns]"
      ]
     },
     "execution_count": 14,
     "metadata": {},
     "output_type": "execute_result"
    }
   ],
   "source": [
    "df_o['OrderDate']= df_o['OrderDate'].astype('datetime64[ns]')\n",
    "df_o.groupby(['EmployeeID', 'CustomerID'],as_index=False).count().sort_values('OrderID', ascending=False)"
   ]
  },
  {
   "cell_type": "markdown",
   "id": "cebff6fd",
   "metadata": {},
   "source": [
    "13. У скольких заказов фактическая скидка составила более 2000?"
   ]
  },
  {
   "cell_type": "code",
   "execution_count": 32,
   "id": "2b49343f",
   "metadata": {},
   "outputs": [
    {
     "data": {
      "text/plain": [
       "5"
      ]
     },
     "execution_count": 32,
     "metadata": {},
     "output_type": "execute_result"
    }
   ],
   "source": [
    "df_od2 = df_od.groupby('OrderID').agg({'Discount_fact':'sum', 'Revenue':'sum'}).reset_index()\n",
    "df_od2[df_od2['Discount_fact']>2000].OrderID.count()\n"
   ]
  },
  {
   "cell_type": "markdown",
   "id": "69f4ff87",
   "metadata": {},
   "source": [
    "14.Как зовут сотрудника, который оформил больше всего заказов за все время?"
   ]
  },
  {
   "cell_type": "code",
   "execution_count": 15,
   "id": "8a517dfd",
   "metadata": {
    "scrolled": false
   },
   "outputs": [
    {
     "data": {
      "text/html": [
       "<div>\n",
       "<style scoped>\n",
       "    .dataframe tbody tr th:only-of-type {\n",
       "        vertical-align: middle;\n",
       "    }\n",
       "\n",
       "    .dataframe tbody tr th {\n",
       "        vertical-align: top;\n",
       "    }\n",
       "\n",
       "    .dataframe thead th {\n",
       "        text-align: right;\n",
       "    }\n",
       "</style>\n",
       "<table border=\"1\" class=\"dataframe\">\n",
       "  <thead>\n",
       "    <tr style=\"text-align: right;\">\n",
       "      <th></th>\n",
       "      <th>EmployeeID</th>\n",
       "      <th>FirstName</th>\n",
       "      <th>LastName</th>\n",
       "      <th>Title</th>\n",
       "      <th>TitleOfCourtesy</th>\n",
       "      <th>BirthDate</th>\n",
       "      <th>HireDate</th>\n",
       "      <th>Address</th>\n",
       "      <th>HomePhone</th>\n",
       "      <th>OrderID</th>\n",
       "      <th>CustomerID</th>\n",
       "      <th>OrderDate</th>\n",
       "      <th>RequiredDate</th>\n",
       "      <th>ShippedDate</th>\n",
       "      <th>Freight</th>\n",
       "    </tr>\n",
       "  </thead>\n",
       "  <tbody>\n",
       "    <tr>\n",
       "      <th>3</th>\n",
       "      <td>4</td>\n",
       "      <td>Margaret</td>\n",
       "      <td>Peacock</td>\n",
       "      <td>156</td>\n",
       "      <td>156</td>\n",
       "      <td>156</td>\n",
       "      <td>156</td>\n",
       "      <td>156</td>\n",
       "      <td>156</td>\n",
       "      <td>156</td>\n",
       "      <td>156</td>\n",
       "      <td>156</td>\n",
       "      <td>156</td>\n",
       "      <td>151</td>\n",
       "      <td>156</td>\n",
       "    </tr>\n",
       "    <tr>\n",
       "      <th>2</th>\n",
       "      <td>3</td>\n",
       "      <td>Janet</td>\n",
       "      <td>Leverling</td>\n",
       "      <td>127</td>\n",
       "      <td>127</td>\n",
       "      <td>127</td>\n",
       "      <td>127</td>\n",
       "      <td>127</td>\n",
       "      <td>127</td>\n",
       "      <td>127</td>\n",
       "      <td>127</td>\n",
       "      <td>127</td>\n",
       "      <td>127</td>\n",
       "      <td>127</td>\n",
       "      <td>127</td>\n",
       "    </tr>\n",
       "    <tr>\n",
       "      <th>0</th>\n",
       "      <td>1</td>\n",
       "      <td>Nancy</td>\n",
       "      <td>Davolio</td>\n",
       "      <td>123</td>\n",
       "      <td>123</td>\n",
       "      <td>123</td>\n",
       "      <td>123</td>\n",
       "      <td>123</td>\n",
       "      <td>123</td>\n",
       "      <td>123</td>\n",
       "      <td>123</td>\n",
       "      <td>123</td>\n",
       "      <td>123</td>\n",
       "      <td>120</td>\n",
       "      <td>123</td>\n",
       "    </tr>\n",
       "    <tr>\n",
       "      <th>7</th>\n",
       "      <td>8</td>\n",
       "      <td>Laura</td>\n",
       "      <td>Callahan</td>\n",
       "      <td>104</td>\n",
       "      <td>104</td>\n",
       "      <td>104</td>\n",
       "      <td>104</td>\n",
       "      <td>104</td>\n",
       "      <td>104</td>\n",
       "      <td>104</td>\n",
       "      <td>104</td>\n",
       "      <td>104</td>\n",
       "      <td>104</td>\n",
       "      <td>100</td>\n",
       "      <td>104</td>\n",
       "    </tr>\n",
       "    <tr>\n",
       "      <th>1</th>\n",
       "      <td>2</td>\n",
       "      <td>Andrew</td>\n",
       "      <td>Fuller</td>\n",
       "      <td>96</td>\n",
       "      <td>96</td>\n",
       "      <td>96</td>\n",
       "      <td>96</td>\n",
       "      <td>96</td>\n",
       "      <td>96</td>\n",
       "      <td>96</td>\n",
       "      <td>96</td>\n",
       "      <td>96</td>\n",
       "      <td>96</td>\n",
       "      <td>93</td>\n",
       "      <td>96</td>\n",
       "    </tr>\n",
       "    <tr>\n",
       "      <th>6</th>\n",
       "      <td>7</td>\n",
       "      <td>Robert</td>\n",
       "      <td>King</td>\n",
       "      <td>72</td>\n",
       "      <td>72</td>\n",
       "      <td>72</td>\n",
       "      <td>72</td>\n",
       "      <td>72</td>\n",
       "      <td>72</td>\n",
       "      <td>72</td>\n",
       "      <td>72</td>\n",
       "      <td>72</td>\n",
       "      <td>72</td>\n",
       "      <td>69</td>\n",
       "      <td>72</td>\n",
       "    </tr>\n",
       "    <tr>\n",
       "      <th>5</th>\n",
       "      <td>6</td>\n",
       "      <td>Michael</td>\n",
       "      <td>Suyama</td>\n",
       "      <td>67</td>\n",
       "      <td>67</td>\n",
       "      <td>67</td>\n",
       "      <td>67</td>\n",
       "      <td>67</td>\n",
       "      <td>67</td>\n",
       "      <td>67</td>\n",
       "      <td>67</td>\n",
       "      <td>67</td>\n",
       "      <td>67</td>\n",
       "      <td>65</td>\n",
       "      <td>67</td>\n",
       "    </tr>\n",
       "    <tr>\n",
       "      <th>8</th>\n",
       "      <td>9</td>\n",
       "      <td>Anne</td>\n",
       "      <td>Dodsworth</td>\n",
       "      <td>43</td>\n",
       "      <td>43</td>\n",
       "      <td>43</td>\n",
       "      <td>43</td>\n",
       "      <td>43</td>\n",
       "      <td>43</td>\n",
       "      <td>43</td>\n",
       "      <td>43</td>\n",
       "      <td>43</td>\n",
       "      <td>43</td>\n",
       "      <td>42</td>\n",
       "      <td>43</td>\n",
       "    </tr>\n",
       "    <tr>\n",
       "      <th>4</th>\n",
       "      <td>5</td>\n",
       "      <td>Steven</td>\n",
       "      <td>Buchanan</td>\n",
       "      <td>42</td>\n",
       "      <td>42</td>\n",
       "      <td>42</td>\n",
       "      <td>42</td>\n",
       "      <td>42</td>\n",
       "      <td>42</td>\n",
       "      <td>42</td>\n",
       "      <td>42</td>\n",
       "      <td>42</td>\n",
       "      <td>42</td>\n",
       "      <td>42</td>\n",
       "      <td>42</td>\n",
       "    </tr>\n",
       "  </tbody>\n",
       "</table>\n",
       "</div>"
      ],
      "text/plain": [
       "   EmployeeID FirstName   LastName  Title  TitleOfCourtesy  BirthDate  \\\n",
       "3           4  Margaret    Peacock    156              156        156   \n",
       "2           3     Janet  Leverling    127              127        127   \n",
       "0           1     Nancy    Davolio    123              123        123   \n",
       "7           8     Laura   Callahan    104              104        104   \n",
       "1           2    Andrew     Fuller     96               96         96   \n",
       "6           7    Robert       King     72               72         72   \n",
       "5           6   Michael     Suyama     67               67         67   \n",
       "8           9      Anne  Dodsworth     43               43         43   \n",
       "4           5    Steven   Buchanan     42               42         42   \n",
       "\n",
       "   HireDate  Address  HomePhone  OrderID  CustomerID  OrderDate  RequiredDate  \\\n",
       "3       156      156        156      156         156        156           156   \n",
       "2       127      127        127      127         127        127           127   \n",
       "0       123      123        123      123         123        123           123   \n",
       "7       104      104        104      104         104        104           104   \n",
       "1        96       96         96       96          96         96            96   \n",
       "6        72       72         72       72          72         72            72   \n",
       "5        67       67         67       67          67         67            67   \n",
       "8        43       43         43       43          43         43            43   \n",
       "4        42       42         42       42          42         42            42   \n",
       "\n",
       "   ShippedDate  Freight  \n",
       "3          151      156  \n",
       "2          127      127  \n",
       "0          120      123  \n",
       "7          100      104  \n",
       "1           93       96  \n",
       "6           69       72  \n",
       "5           65       67  \n",
       "8           42       43  \n",
       "4           42       42  "
      ]
     },
     "execution_count": 15,
     "metadata": {},
     "output_type": "execute_result"
    }
   ],
   "source": [
    "df_o_e = df_e.merge(df_o)\n",
    "df_o_e.groupby(['EmployeeID', 'FirstName', 'LastName'], as_index=False).count().sort_values('OrderID', ascending=False)"
   ]
  },
  {
   "cell_type": "markdown",
   "id": "e606fe0e",
   "metadata": {},
   "source": [
    "15. Как зовут клиента, который принес самую высокую чистую выручку за все время?"
   ]
  },
  {
   "cell_type": "code",
   "execution_count": 25,
   "id": "46ea93e8",
   "metadata": {
    "scrolled": true
   },
   "outputs": [
    {
     "data": {
      "text/html": [
       "<div>\n",
       "<style scoped>\n",
       "    .dataframe tbody tr th:only-of-type {\n",
       "        vertical-align: middle;\n",
       "    }\n",
       "\n",
       "    .dataframe tbody tr th {\n",
       "        vertical-align: top;\n",
       "    }\n",
       "\n",
       "    .dataframe thead th {\n",
       "        text-align: right;\n",
       "    }\n",
       "</style>\n",
       "<table border=\"1\" class=\"dataframe\">\n",
       "  <thead>\n",
       "    <tr style=\"text-align: right;\">\n",
       "      <th></th>\n",
       "      <th>Revenue</th>\n",
       "    </tr>\n",
       "    <tr>\n",
       "      <th>ContactName</th>\n",
       "      <th></th>\n",
       "    </tr>\n",
       "  </thead>\n",
       "  <tbody>\n",
       "    <tr>\n",
       "      <th>Horst Kloss</th>\n",
       "      <td>110277.3050</td>\n",
       "    </tr>\n",
       "    <tr>\n",
       "      <th>Roland Mendel</th>\n",
       "      <td>104874.9785</td>\n",
       "    </tr>\n",
       "    <tr>\n",
       "      <th>Jose Pavarotti</th>\n",
       "      <td>104361.9500</td>\n",
       "    </tr>\n",
       "    <tr>\n",
       "      <th>Paula Wilson</th>\n",
       "      <td>51097.8005</td>\n",
       "    </tr>\n",
       "    <tr>\n",
       "      <th>Patricia McKenna</th>\n",
       "      <td>49979.9050</td>\n",
       "    </tr>\n",
       "    <tr>\n",
       "      <th>...</th>\n",
       "      <td>...</td>\n",
       "    </tr>\n",
       "    <tr>\n",
       "      <th>Eduardo Saavedra</th>\n",
       "      <td>836.7000</td>\n",
       "    </tr>\n",
       "    <tr>\n",
       "      <th>Simon Crowther</th>\n",
       "      <td>649.0000</td>\n",
       "    </tr>\n",
       "    <tr>\n",
       "      <th>Yoshi Tannamuri</th>\n",
       "      <td>522.5000</td>\n",
       "    </tr>\n",
       "    <tr>\n",
       "      <th>John Steel</th>\n",
       "      <td>357.0000</td>\n",
       "    </tr>\n",
       "    <tr>\n",
       "      <th>Francisco Chang</th>\n",
       "      <td>100.8000</td>\n",
       "    </tr>\n",
       "  </tbody>\n",
       "</table>\n",
       "<p>89 rows × 1 columns</p>\n",
       "</div>"
      ],
      "text/plain": [
       "                      Revenue\n",
       "ContactName                  \n",
       "Horst Kloss       110277.3050\n",
       "Roland Mendel     104874.9785\n",
       "Jose Pavarotti    104361.9500\n",
       "Paula Wilson       51097.8005\n",
       "Patricia McKenna   49979.9050\n",
       "...                       ...\n",
       "Eduardo Saavedra     836.7000\n",
       "Simon Crowther       649.0000\n",
       "Yoshi Tannamuri      522.5000\n",
       "John Steel           357.0000\n",
       "Francisco Chang      100.8000\n",
       "\n",
       "[89 rows x 1 columns]"
      ]
     },
     "execution_count": 25,
     "metadata": {},
     "output_type": "execute_result"
    }
   ],
   "source": [
    "df_c_o_od = df_c.merge(df_o).merge(df_od)\n",
    "df_c_o_od.groupby('ContactName').agg({'Revenue':'sum'}).sort_values('Revenue', ascending=False)"
   ]
  },
  {
   "cell_type": "markdown",
   "id": "b1df1d4d",
   "metadata": {},
   "source": [
    "16. Какая категория товаров принесла самую высокую чистую выручку?"
   ]
  },
  {
   "cell_type": "code",
   "execution_count": 7,
   "id": "e1937f99",
   "metadata": {
    "scrolled": true
   },
   "outputs": [
    {
     "data": {
      "text/html": [
       "<div>\n",
       "<style scoped>\n",
       "    .dataframe tbody tr th:only-of-type {\n",
       "        vertical-align: middle;\n",
       "    }\n",
       "\n",
       "    .dataframe tbody tr th {\n",
       "        vertical-align: top;\n",
       "    }\n",
       "\n",
       "    .dataframe thead th {\n",
       "        text-align: right;\n",
       "    }\n",
       "</style>\n",
       "<table border=\"1\" class=\"dataframe\">\n",
       "  <thead>\n",
       "    <tr style=\"text-align: right;\">\n",
       "      <th></th>\n",
       "      <th>Revenue</th>\n",
       "    </tr>\n",
       "    <tr>\n",
       "      <th>CategoryName</th>\n",
       "      <th></th>\n",
       "    </tr>\n",
       "  </thead>\n",
       "  <tbody>\n",
       "    <tr>\n",
       "      <th>Beverages</th>\n",
       "      <td>267868.1800</td>\n",
       "    </tr>\n",
       "    <tr>\n",
       "      <th>Dairy Products</th>\n",
       "      <td>234507.2850</td>\n",
       "    </tr>\n",
       "    <tr>\n",
       "      <th>Confections</th>\n",
       "      <td>167357.2250</td>\n",
       "    </tr>\n",
       "    <tr>\n",
       "      <th>Meat/Poultry</th>\n",
       "      <td>163022.3595</td>\n",
       "    </tr>\n",
       "    <tr>\n",
       "      <th>Seafood</th>\n",
       "      <td>131261.7375</td>\n",
       "    </tr>\n",
       "    <tr>\n",
       "      <th>Condiments</th>\n",
       "      <td>106047.0850</td>\n",
       "    </tr>\n",
       "    <tr>\n",
       "      <th>Produce</th>\n",
       "      <td>99984.5800</td>\n",
       "    </tr>\n",
       "    <tr>\n",
       "      <th>Grains/Cereals</th>\n",
       "      <td>95744.5875</td>\n",
       "    </tr>\n",
       "  </tbody>\n",
       "</table>\n",
       "</div>"
      ],
      "text/plain": [
       "                    Revenue\n",
       "CategoryName               \n",
       "Beverages       267868.1800\n",
       "Dairy Products  234507.2850\n",
       "Confections     167357.2250\n",
       "Meat/Poultry    163022.3595\n",
       "Seafood         131261.7375\n",
       "Condiments      106047.0850\n",
       "Produce          99984.5800\n",
       "Grains/Cereals   95744.5875"
      ]
     },
     "execution_count": 7,
     "metadata": {},
     "output_type": "execute_result"
    }
   ],
   "source": [
    "df_od_p = df_od.merge(df_p, left_on = 'ProductID', right_on = 'ProductID')\n",
    "df_od_p.groupby('CategoryName').agg({'Revenue':'sum'}).sort_values('Revenue', ascending=False)"
   ]
  },
  {
   "cell_type": "markdown",
   "id": "54164fd6",
   "metadata": {},
   "source": [
    "17. Сколько человек состоят в должности Sales Representative?"
   ]
  },
  {
   "cell_type": "code",
   "execution_count": 12,
   "id": "f7cab142",
   "metadata": {},
   "outputs": [
    {
     "data": {
      "text/html": [
       "<div>\n",
       "<style scoped>\n",
       "    .dataframe tbody tr th:only-of-type {\n",
       "        vertical-align: middle;\n",
       "    }\n",
       "\n",
       "    .dataframe tbody tr th {\n",
       "        vertical-align: top;\n",
       "    }\n",
       "\n",
       "    .dataframe thead th {\n",
       "        text-align: right;\n",
       "    }\n",
       "</style>\n",
       "<table border=\"1\" class=\"dataframe\">\n",
       "  <thead>\n",
       "    <tr style=\"text-align: right;\">\n",
       "      <th></th>\n",
       "      <th>Title</th>\n",
       "      <th>count</th>\n",
       "    </tr>\n",
       "  </thead>\n",
       "  <tbody>\n",
       "    <tr>\n",
       "      <th>0</th>\n",
       "      <td>Sales Representative</td>\n",
       "      <td>23</td>\n",
       "    </tr>\n",
       "    <tr>\n",
       "      <th>1</th>\n",
       "      <td>Owner</td>\n",
       "      <td>17</td>\n",
       "    </tr>\n",
       "    <tr>\n",
       "      <th>2</th>\n",
       "      <td>Marketing Manager</td>\n",
       "      <td>12</td>\n",
       "    </tr>\n",
       "    <tr>\n",
       "      <th>3</th>\n",
       "      <td>Sales Manager</td>\n",
       "      <td>12</td>\n",
       "    </tr>\n",
       "    <tr>\n",
       "      <th>4</th>\n",
       "      <td>Accounting Manager</td>\n",
       "      <td>10</td>\n",
       "    </tr>\n",
       "    <tr>\n",
       "      <th>5</th>\n",
       "      <td>Sales Associate</td>\n",
       "      <td>7</td>\n",
       "    </tr>\n",
       "    <tr>\n",
       "      <th>6</th>\n",
       "      <td>Marketing Assistant</td>\n",
       "      <td>6</td>\n",
       "    </tr>\n",
       "    <tr>\n",
       "      <th>7</th>\n",
       "      <td>Sales Agent</td>\n",
       "      <td>5</td>\n",
       "    </tr>\n",
       "    <tr>\n",
       "      <th>8</th>\n",
       "      <td>Assistant Sales Agent</td>\n",
       "      <td>2</td>\n",
       "    </tr>\n",
       "    <tr>\n",
       "      <th>9</th>\n",
       "      <td>Order Administrator</td>\n",
       "      <td>2</td>\n",
       "    </tr>\n",
       "    <tr>\n",
       "      <th>10</th>\n",
       "      <td>Assistant Sales Representative</td>\n",
       "      <td>1</td>\n",
       "    </tr>\n",
       "    <tr>\n",
       "      <th>11</th>\n",
       "      <td>Inside Sales Coordinator</td>\n",
       "      <td>1</td>\n",
       "    </tr>\n",
       "    <tr>\n",
       "      <th>12</th>\n",
       "      <td>Owner/Marketing Assistant</td>\n",
       "      <td>1</td>\n",
       "    </tr>\n",
       "    <tr>\n",
       "      <th>13</th>\n",
       "      <td>Vice President, Sales</td>\n",
       "      <td>1</td>\n",
       "    </tr>\n",
       "  </tbody>\n",
       "</table>\n",
       "</div>"
      ],
      "text/plain": [
       "                             Title  count\n",
       "0             Sales Representative     23\n",
       "1                            Owner     17\n",
       "2                Marketing Manager     12\n",
       "3                    Sales Manager     12\n",
       "4               Accounting Manager     10\n",
       "5                  Sales Associate      7\n",
       "6              Marketing Assistant      6\n",
       "7                      Sales Agent      5\n",
       "8            Assistant Sales Agent      2\n",
       "9              Order Administrator      2\n",
       "10  Assistant Sales Representative      1\n",
       "11        Inside Sales Coordinator      1\n",
       "12       Owner/Marketing Assistant      1\n",
       "13           Vice President, Sales      1"
      ]
     },
     "execution_count": 12,
     "metadata": {},
     "output_type": "execute_result"
    }
   ],
   "source": [
    "a = pd.DataFrame({'Title':df_e['Title']})\n",
    "\n",
    "b = pd.DataFrame({'Title':df_c['ContactTitle']})\n",
    "\n",
    "c = pd.concat([a,b])\n",
    "\n",
    "c.value_counts().reset_index()"
   ]
  },
  {
   "cell_type": "markdown",
   "id": "a501885d",
   "metadata": {},
   "source": [
    "18. В каком месяце было совершено рекордное количество заказов? "
   ]
  },
  {
   "cell_type": "code",
   "execution_count": 22,
   "id": "b50b1d9e",
   "metadata": {},
   "outputs": [],
   "source": [
    "df_o['OrderDate']= df_o['OrderDate'].astype('datetime64[ns]')\n",
    "df_o['Month'] = df_o['OrderDate'].dt.month\n",
    "df_o['Year'] = df_o['OrderDate'].dt.year\n",
    "\n",
    "df_o.groupby(['Month', 'Year']).count()"
   ]
  },
  {
   "cell_type": "markdown",
   "id": "afc96e40",
   "metadata": {},
   "source": [
    "19. Сколько заказов было сделано на 43 неделе 1996 года?"
   ]
  },
  {
   "cell_type": "code",
   "execution_count": 26,
   "id": "94fdc76f",
   "metadata": {
    "scrolled": true
   },
   "outputs": [],
   "source": [
    "df_o['OrderDate']= df_o['OrderDate'].astype('datetime64[ns]')\n",
    "df_o['Week'] = df_o['OrderDate'].dt.isocalendar().week\n",
    "\n",
    "df_o.groupby(['Month', 'Year', 'Week'], as_index=False).OrderID.count()\n",
    "df_o[(df_o['Week'] == 43) & (df_o['Year'] == 1996)].OrderID.count()"
   ]
  },
  {
   "cell_type": "markdown",
   "id": "5c4fc7f3",
   "metadata": {},
   "source": [
    "20. Посчитайте рекордную чистую выручку, которую сделал один сотрудник в месяц?\n"
   ]
  },
  {
   "cell_type": "code",
   "execution_count": null,
   "id": "da3dac26",
   "metadata": {},
   "outputs": [],
   "source": [
    "df_od_o = df_od.merge(df_o)\n",
    "df_od_o.groupby(['EmployeeID', 'Month', 'Year']).agg({'Revenue': 'sum'}).sort_values('Revenue', ascending=False)\n"
   ]
  },
  {
   "cell_type": "markdown",
   "id": "f8a81f54",
   "metadata": {},
   "source": [
    "21. Сколько заказов было оформлено в 1 квартале 1998 года?"
   ]
  },
  {
   "cell_type": "code",
   "execution_count": 55,
   "id": "2b93565e",
   "metadata": {
    "scrolled": true
   },
   "outputs": [],
   "source": [
    "df_o['Quarter'] = df_o['OrderDate'].dt.quarter\n",
    "\n",
    "df_o_pivot = df_o.pivot_table(index='Year', columns='Quarter', values='OrderID', aggfunc='count', fill_value=0)"
   ]
  },
  {
   "cell_type": "markdown",
   "id": "cb7fcd20",
   "metadata": {},
   "source": [
    "22. На сколько представители одного пола оформили больше заказов, чем представители другого пола? "
   ]
  },
  {
   "cell_type": "code",
   "execution_count": 58,
   "id": "7221ce36",
   "metadata": {},
   "outputs": [
    {
     "data": {
      "text/plain": [
       "276"
      ]
     },
     "execution_count": 58,
     "metadata": {},
     "output_type": "execute_result"
    }
   ],
   "source": [
    "df_sex = pd.DataFrame({'TitleOfCourtesy':['Ms.', 'Dr.', 'Mrs.', 'Mr.'],'Sex':['female','male','female','male']})\n",
    "a = df_e.merge(df_sex).merge(df_o[['OrderID','EmployeeID']])\n",
    "df_sex_OrderID = a[['Sex','OrderID']]\n",
    "b = df_sex_OrderID.groupby('Sex').OrderID.count().reset_index()\n",
    "b['OrderID'].max() - b['OrderID'].min()"
   ]
  },
  {
   "cell_type": "markdown",
   "id": "6362a2b6",
   "metadata": {},
   "source": [
    "23. Посчитайте для каждого заказа чистую выручку. Разбейте столбец с чистой выручкой на 5 бинов.  Далее в разрезе бинов посчитайте количество заказов. "
   ]
  },
  {
   "cell_type": "code",
   "execution_count": 93,
   "id": "05b637bf",
   "metadata": {},
   "outputs": [
    {
     "data": {
      "text/html": [
       "<div>\n",
       "<style scoped>\n",
       "    .dataframe tbody tr th:only-of-type {\n",
       "        vertical-align: middle;\n",
       "    }\n",
       "\n",
       "    .dataframe tbody tr th {\n",
       "        vertical-align: top;\n",
       "    }\n",
       "\n",
       "    .dataframe thead th {\n",
       "        text-align: right;\n",
       "    }\n",
       "</style>\n",
       "<table border=\"1\" class=\"dataframe\">\n",
       "  <thead>\n",
       "    <tr style=\"text-align: right;\">\n",
       "      <th></th>\n",
       "      <th>bins</th>\n",
       "      <th>OrderID</th>\n",
       "    </tr>\n",
       "  </thead>\n",
       "  <tbody>\n",
       "    <tr>\n",
       "      <th>0</th>\n",
       "      <td>(12.499, 365.432]</td>\n",
       "      <td>166</td>\n",
       "    </tr>\n",
       "    <tr>\n",
       "      <th>1</th>\n",
       "      <td>(365.432, 721.86]</td>\n",
       "      <td>166</td>\n",
       "    </tr>\n",
       "    <tr>\n",
       "      <th>2</th>\n",
       "      <td>(721.86, 1335.78]</td>\n",
       "      <td>166</td>\n",
       "    </tr>\n",
       "    <tr>\n",
       "      <th>3</th>\n",
       "      <td>(1335.78, 2122.976]</td>\n",
       "      <td>166</td>\n",
       "    </tr>\n",
       "    <tr>\n",
       "      <th>4</th>\n",
       "      <td>(2122.976, 16387.5]</td>\n",
       "      <td>166</td>\n",
       "    </tr>\n",
       "  </tbody>\n",
       "</table>\n",
       "</div>"
      ],
      "text/plain": [
       "                  bins  OrderID\n",
       "0    (12.499, 365.432]      166\n",
       "1    (365.432, 721.86]      166\n",
       "2    (721.86, 1335.78]      166\n",
       "3  (1335.78, 2122.976]      166\n",
       "4  (2122.976, 16387.5]      166"
      ]
     },
     "execution_count": 93,
     "metadata": {},
     "output_type": "execute_result"
    }
   ],
   "source": [
    "df_o['OrderDate'] = df_o['OrderDate'].astype('datetime64[ns]')\n",
    "\n",
    "df_od = df_od.groupby('OrderID').Revenue.sum().reset_index()\n",
    "\n",
    "df_od['bins'] = pd.qcut(df_od['Revenue'], 5)\n",
    "\n",
    "df_od.groupby('bins').OrderID.count().reset_index()"
   ]
  },
  {
   "cell_type": "markdown",
   "id": "0e722617",
   "metadata": {},
   "source": [
    "24. Сотрудник с каким ID оформил больше всего заказов за все время?"
   ]
  },
  {
   "cell_type": "code",
   "execution_count": 94,
   "id": "175e825b",
   "metadata": {},
   "outputs": [
    {
     "data": {
      "text/plain": [
       "<Axes: >"
      ]
     },
     "execution_count": 94,
     "metadata": {},
     "output_type": "execute_result"
    },
    {
     "data": {
      "image/png": "[encoded data removed]",
      "text/plain": [
       "<Figure size 640x480 with 1 Axes>"
      ]
     },
     "metadata": {},
     "output_type": "display_data"
    }
   ],
   "source": [
    "df_o['EmployeeID'].hist(xrot = 'vertical', bins = 12)"
   ]
  },
  {
   "cell_type": "markdown",
   "id": "ea22d6af",
   "metadata": {},
   "source": [
    "25. Сравнение выручки в 1997 и 1998 по неделям."
   ]
  },
  {
   "cell_type": "code",
   "execution_count": 131,
   "id": "407fcbb0",
   "metadata": {},
   "outputs": [
    {
     "data": {
      "text/plain": [
       "<Axes: xlabel='Week'>"
      ]
     },
     "execution_count": 131,
     "metadata": {},
     "output_type": "execute_result"
    },
    {
     "data": {
      "image/png": "[encoded data removed]",
      "text/plain": [
       "<Figure size 640x480 with 1 Axes>"
      ]
     },
     "metadata": {},
     "output_type": "display_data"
    }
   ],
   "source": [
    "rev1997 = df_od_o[df_od_o['Year'] == 1997].groupby('Week').Revenue.sum().reset_index()\n",
    "rev1998 = df_od_o[df_od_o['Year'] == 1998].groupby('Week').Revenue.sum().reset_index()\n",
    "\n",
    "rev1997 = rev1997.rename(columns = {'Revenue':'Rev1997'})\n",
    "rev1998 = rev1998.rename(columns = {'Revenue':'Rev1998'})\n",
    "\n",
    "result = rev1998.merge(rev1997)\n",
    "\n",
    "result.plot(kind= 'bar', x = 'Week')"
   ]
  },
  {
   "cell_type": "markdown",
   "id": "220fbaa4",
   "metadata": {
    "scrolled": true
   },
   "source": [
    "26. Для каждого клиента CustomerID посчитайте количество совершенных заказов."
   ]
  },
  {
   "cell_type": "code",
   "execution_count": 6,
   "id": "f0ccff0b",
   "metadata": {},
   "outputs": [
    {
     "data": {
      "text/plain": [
       "<Axes: >"
      ]
     },
     "execution_count": 6,
     "metadata": {},
     "output_type": "execute_result"
    },
    {
     "data": {
      "image/png": "[encoded data removed]",
      "text/plain": [
       "<Figure size 640x480 with 1 Axes>"
      ]
     },
     "metadata": {},
     "output_type": "display_data"
    }
   ],
   "source": [
    "df_o.groupby('CustomerID').OrderID.count().plot(kind='box')"
   ]
  }
 ],
 "metadata": {
  "kernelspec": {
   "display_name": "Python 3 (ipykernel)",
   "language": "python",
   "name": "python3"
  },
  "language_info": {
   "codemirror_mode": {
    "name": "ipython",
    "version": 3
   },
   "file_extension": ".py",
   "mimetype": "text/x-python",
   "name": "python",
   "nbconvert_exporter": "python",
   "pygments_lexer": "ipython3",
   "version": "3.11.5"
  }
 },
 "nbformat": 4,
 "nbformat_minor": 5
}
